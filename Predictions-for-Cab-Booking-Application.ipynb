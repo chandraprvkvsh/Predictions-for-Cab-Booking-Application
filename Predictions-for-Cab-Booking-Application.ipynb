{
 "cells": [
  {
   "cell_type": "code",
   "execution_count": 1,
   "metadata": {},
   "outputs": [],
   "source": [
    "#importing required libraries\n",
    "\n",
    "import numpy as np\n",
    "import pandas as pd\n",
    "import matplotlib.pyplot as plt\n",
    "import seaborn as sns\n",
    "import time\n",
    "from datetime import datetime\n",
    "from scipy import stats\n",
    "from sklearn.preprocessing import OneHotEncoder\n",
    "from sklearn.model_selection import GridSearchCV\n",
    "from sklearn.model_selection import cross_val_score\n",
    "from sklearn.metrics import r2_score\n",
    "from sklearn.linear_model import LinearRegression\n",
    "from sklearn.linear_model import Ridge\n",
    "from sklearn.linear_model import Lasso\n",
    "from sklearn.ensemble import RandomForestRegressor\n",
    "from sklearn.ensemble import AdaBoostRegressor\n",
    "from sklearn.ensemble import GradientBoostingRegressor\n",
    "from xgboost import XGBRegressor"
   ]
  },
  {
   "cell_type": "code",
   "execution_count": 2,
   "metadata": {},
   "outputs": [],
   "source": [
    "#Ignoring the warnings\n",
    "\n",
    "import warnings\n",
    "warnings.filterwarnings(\"ignore\")"
   ]
  },
  {
   "cell_type": "code",
   "execution_count": 3,
   "metadata": {},
   "outputs": [],
   "source": [
    "#preparing dataframe for training dataset\n",
    "\n",
    "df_feat_train=pd.read_csv('train.csv')\n",
    "df_target_train=pd.read_csv('train_label.csv')\n",
    "df_feat_train['datetime'] = pd.to_datetime(df_feat_train['datetime'])\n",
    "df_feat_train['date'] = df_feat_train['datetime'].dt.date #getting time from datetime column and adding a seperate column for it\n",
    "df_feat_train['time'] = df_feat_train['datetime'].dt.time #getting date from datetime column and adding a seperate column for it\n",
    "df_feat_train['daynum'] = [i.day for i in df_feat_train['datetime'].dt.date] #getting date from datetime column and adding a seperate column for it\n",
    "df_feat_train['month'] = [i.month for i in df_feat_train['datetime'].dt.date] #getting date from datetime column and adding a seperate column for it\n",
    "df_feat_train['year'] = [i.year for i in df_feat_train['datetime'].dt.date] #getting date from datetime column and adding a seperate column for it\n",
    "df_feat_train['t']= [ (int(str(i)[0:2])) for i in df_feat_train['time'] ]\n",
    "\n",
    "temp=[]\n",
    "for i in df_feat_train['datetime']:\n",
    "    temp.append((i.strftime(\"%A\"))) #getting day name from datetime column\n",
    "df_feat_train['day'] = temp\n",
    "temp=df_target_train.iloc[:]\n",
    "df_feat_train['Total_booking']=temp #adding day name column to the dateframe"
   ]
  },
  {
   "cell_type": "code",
   "execution_count": 4,
   "metadata": {},
   "outputs": [],
   "source": [
    "#re-arranging the features and adding the target column to a fresh dataframe\n",
    "\n",
    "df_train=df_feat_train[['daynum','day','month','year','t','season','holiday','workingday','weather','temp','atemp','humidity','windspeed','Total_booking']]\n",
    "df_train.columns=['date','day','month','year','time','season','holiday','workingday','weather','temp','atemp','humidity','windspeed','Total_booking']"
   ]
  },
  {
   "cell_type": "code",
   "execution_count": 5,
   "metadata": {},
   "outputs": [
    {
     "data": {
      "text/html": [
       "<div>\n",
       "<style scoped>\n",
       "    .dataframe tbody tr th:only-of-type {\n",
       "        vertical-align: middle;\n",
       "    }\n",
       "\n",
       "    .dataframe tbody tr th {\n",
       "        vertical-align: top;\n",
       "    }\n",
       "\n",
       "    .dataframe thead th {\n",
       "        text-align: right;\n",
       "    }\n",
       "</style>\n",
       "<table border=\"1\" class=\"dataframe\">\n",
       "  <thead>\n",
       "    <tr style=\"text-align: right;\">\n",
       "      <th></th>\n",
       "      <th>date</th>\n",
       "      <th>day</th>\n",
       "      <th>month</th>\n",
       "      <th>year</th>\n",
       "      <th>time</th>\n",
       "      <th>season</th>\n",
       "      <th>holiday</th>\n",
       "      <th>workingday</th>\n",
       "      <th>weather</th>\n",
       "      <th>temp</th>\n",
       "      <th>atemp</th>\n",
       "      <th>humidity</th>\n",
       "      <th>windspeed</th>\n",
       "      <th>Total_booking</th>\n",
       "    </tr>\n",
       "  </thead>\n",
       "  <tbody>\n",
       "    <tr>\n",
       "      <td>0</td>\n",
       "      <td>2</td>\n",
       "      <td>Wednesday</td>\n",
       "      <td>5</td>\n",
       "      <td>2012</td>\n",
       "      <td>19</td>\n",
       "      <td>Summer</td>\n",
       "      <td>0</td>\n",
       "      <td>1</td>\n",
       "      <td>Clear + Few clouds</td>\n",
       "      <td>22.14</td>\n",
       "      <td>25.760</td>\n",
       "      <td>77</td>\n",
       "      <td>16.9979</td>\n",
       "      <td>5.0</td>\n",
       "    </tr>\n",
       "    <tr>\n",
       "      <td>1</td>\n",
       "      <td>5</td>\n",
       "      <td>Wednesday</td>\n",
       "      <td>9</td>\n",
       "      <td>2012</td>\n",
       "      <td>4</td>\n",
       "      <td>Fall</td>\n",
       "      <td>0</td>\n",
       "      <td>1</td>\n",
       "      <td>Clear + Few clouds</td>\n",
       "      <td>28.70</td>\n",
       "      <td>33.335</td>\n",
       "      <td>79</td>\n",
       "      <td>19.0012</td>\n",
       "      <td>139.0</td>\n",
       "    </tr>\n",
       "    <tr>\n",
       "      <td>2</td>\n",
       "      <td>13</td>\n",
       "      <td>Thursday</td>\n",
       "      <td>1</td>\n",
       "      <td>2011</td>\n",
       "      <td>9</td>\n",
       "      <td>Spring</td>\n",
       "      <td>0</td>\n",
       "      <td>1</td>\n",
       "      <td>Clear + Few clouds</td>\n",
       "      <td>5.74</td>\n",
       "      <td>6.060</td>\n",
       "      <td>50</td>\n",
       "      <td>22.0028</td>\n",
       "      <td>209.0</td>\n",
       "    </tr>\n",
       "    <tr>\n",
       "      <td>3</td>\n",
       "      <td>18</td>\n",
       "      <td>Friday</td>\n",
       "      <td>11</td>\n",
       "      <td>2011</td>\n",
       "      <td>16</td>\n",
       "      <td>Winter</td>\n",
       "      <td>0</td>\n",
       "      <td>1</td>\n",
       "      <td>Clear + Few clouds</td>\n",
       "      <td>13.94</td>\n",
       "      <td>16.665</td>\n",
       "      <td>29</td>\n",
       "      <td>8.9981</td>\n",
       "      <td>184.0</td>\n",
       "    </tr>\n",
       "    <tr>\n",
       "      <td>4</td>\n",
       "      <td>13</td>\n",
       "      <td>Tuesday</td>\n",
       "      <td>9</td>\n",
       "      <td>2011</td>\n",
       "      <td>13</td>\n",
       "      <td>Fall</td>\n",
       "      <td>0</td>\n",
       "      <td>1</td>\n",
       "      <td>Clear + Few clouds</td>\n",
       "      <td>30.34</td>\n",
       "      <td>33.335</td>\n",
       "      <td>51</td>\n",
       "      <td>19.0012</td>\n",
       "      <td>791.0</td>\n",
       "    </tr>\n",
       "    <tr>\n",
       "      <td>...</td>\n",
       "      <td>...</td>\n",
       "      <td>...</td>\n",
       "      <td>...</td>\n",
       "      <td>...</td>\n",
       "      <td>...</td>\n",
       "      <td>...</td>\n",
       "      <td>...</td>\n",
       "      <td>...</td>\n",
       "      <td>...</td>\n",
       "      <td>...</td>\n",
       "      <td>...</td>\n",
       "      <td>...</td>\n",
       "      <td>...</td>\n",
       "      <td>...</td>\n",
       "    </tr>\n",
       "    <tr>\n",
       "      <td>8703</td>\n",
       "      <td>16</td>\n",
       "      <td>Monday</td>\n",
       "      <td>1</td>\n",
       "      <td>2012</td>\n",
       "      <td>6</td>\n",
       "      <td>Spring</td>\n",
       "      <td>1</td>\n",
       "      <td>0</td>\n",
       "      <td>Clear + Few clouds</td>\n",
       "      <td>4.10</td>\n",
       "      <td>6.820</td>\n",
       "      <td>54</td>\n",
       "      <td>6.0032</td>\n",
       "      <td>11.0</td>\n",
       "    </tr>\n",
       "    <tr>\n",
       "      <td>8704</td>\n",
       "      <td>10</td>\n",
       "      <td>Thursday</td>\n",
       "      <td>11</td>\n",
       "      <td>2011</td>\n",
       "      <td>1</td>\n",
       "      <td>Winter</td>\n",
       "      <td>0</td>\n",
       "      <td>1</td>\n",
       "      <td>Mist + Cloudy</td>\n",
       "      <td>16.40</td>\n",
       "      <td>20.455</td>\n",
       "      <td>87</td>\n",
       "      <td>0.0000</td>\n",
       "      <td>1.0</td>\n",
       "    </tr>\n",
       "    <tr>\n",
       "      <td>8705</td>\n",
       "      <td>12</td>\n",
       "      <td>Tuesday</td>\n",
       "      <td>4</td>\n",
       "      <td>2011</td>\n",
       "      <td>3</td>\n",
       "      <td>Summer</td>\n",
       "      <td>0</td>\n",
       "      <td>1</td>\n",
       "      <td>Mist + Cloudy</td>\n",
       "      <td>23.78</td>\n",
       "      <td>27.275</td>\n",
       "      <td>56</td>\n",
       "      <td>8.9981</td>\n",
       "      <td>92.0</td>\n",
       "    </tr>\n",
       "    <tr>\n",
       "      <td>8706</td>\n",
       "      <td>7</td>\n",
       "      <td>Wednesday</td>\n",
       "      <td>11</td>\n",
       "      <td>2012</td>\n",
       "      <td>1</td>\n",
       "      <td>Winter</td>\n",
       "      <td>0</td>\n",
       "      <td>1</td>\n",
       "      <td>Mist + Cloudy</td>\n",
       "      <td>11.48</td>\n",
       "      <td>13.635</td>\n",
       "      <td>61</td>\n",
       "      <td>16.9979</td>\n",
       "      <td>31.0</td>\n",
       "    </tr>\n",
       "    <tr>\n",
       "      <td>8707</td>\n",
       "      <td>10</td>\n",
       "      <td>Monday</td>\n",
       "      <td>1</td>\n",
       "      <td>2011</td>\n",
       "      <td>10</td>\n",
       "      <td>Spring</td>\n",
       "      <td>0</td>\n",
       "      <td>1</td>\n",
       "      <td>Mist + Cloudy</td>\n",
       "      <td>5.74</td>\n",
       "      <td>6.060</td>\n",
       "      <td>50</td>\n",
       "      <td>19.9995</td>\n",
       "      <td>NaN</td>\n",
       "    </tr>\n",
       "  </tbody>\n",
       "</table>\n",
       "<p>8708 rows × 14 columns</p>\n",
       "</div>"
      ],
      "text/plain": [
       "      date        day  month  year  time  season  holiday  workingday  \\\n",
       "0        2  Wednesday      5  2012    19  Summer        0           1   \n",
       "1        5  Wednesday      9  2012     4    Fall        0           1   \n",
       "2       13   Thursday      1  2011     9  Spring        0           1   \n",
       "3       18     Friday     11  2011    16  Winter        0           1   \n",
       "4       13    Tuesday      9  2011    13    Fall        0           1   \n",
       "...    ...        ...    ...   ...   ...     ...      ...         ...   \n",
       "8703    16     Monday      1  2012     6  Spring        1           0   \n",
       "8704    10   Thursday     11  2011     1  Winter        0           1   \n",
       "8705    12    Tuesday      4  2011     3  Summer        0           1   \n",
       "8706     7  Wednesday     11  2012     1  Winter        0           1   \n",
       "8707    10     Monday      1  2011    10  Spring        0           1   \n",
       "\n",
       "                  weather   temp   atemp  humidity  windspeed  Total_booking  \n",
       "0      Clear + Few clouds  22.14  25.760        77    16.9979            5.0  \n",
       "1      Clear + Few clouds  28.70  33.335        79    19.0012          139.0  \n",
       "2      Clear + Few clouds   5.74   6.060        50    22.0028          209.0  \n",
       "3      Clear + Few clouds  13.94  16.665        29     8.9981          184.0  \n",
       "4      Clear + Few clouds  30.34  33.335        51    19.0012          791.0  \n",
       "...                   ...    ...     ...       ...        ...            ...  \n",
       "8703   Clear + Few clouds   4.10   6.820        54     6.0032           11.0  \n",
       "8704       Mist + Cloudy   16.40  20.455        87     0.0000            1.0  \n",
       "8705       Mist + Cloudy   23.78  27.275        56     8.9981           92.0  \n",
       "8706       Mist + Cloudy   11.48  13.635        61    16.9979           31.0  \n",
       "8707       Mist + Cloudy    5.74   6.060        50    19.9995            NaN  \n",
       "\n",
       "[8708 rows x 14 columns]"
      ]
     },
     "execution_count": 5,
     "metadata": {},
     "output_type": "execute_result"
    }
   ],
   "source": [
    "df_train"
   ]
  },
  {
   "cell_type": "code",
   "execution_count": null,
   "metadata": {},
   "outputs": [],
   "source": []
  },
  {
   "cell_type": "code",
   "execution_count": 6,
   "metadata": {},
   "outputs": [
    {
     "data": {
      "text/plain": [
       "'\\nTask 1 section: \\n1.)Visualizing data and getting insights, \\n2.)Outlier Analysis, \\n3.)Missing value analysis,\\n4.)Visualizing Total_booking Vs other features to generate insights,\\n5.)Correlation analysis\\n'"
      ]
     },
     "execution_count": 6,
     "metadata": {},
     "output_type": "execute_result"
    }
   ],
   "source": [
    "'''\n",
    "Task 1 section: \n",
    "1.)Visualizing data and getting insights, \n",
    "2.)Outlier Analysis, \n",
    "3.)Missing value analysis,\n",
    "4.)Visualizing Total_booking Vs other features to generate insights,\n",
    "5.)Correlation analysis\n",
    "'''"
   ]
  },
  {
   "cell_type": "code",
   "execution_count": 7,
   "metadata": {},
   "outputs": [
    {
     "data": {
      "image/png": "[encoded data removed]",
      "text/plain": [
       "<Figure size 576x288 with 1 Axes>"
      ]
     },
     "metadata": {
      "needs_background": "light"
     },
     "output_type": "display_data"
    },
    {
     "data": {
      "text/plain": [
       "<Figure size 432x288 with 0 Axes>"
      ]
     },
     "metadata": {},
     "output_type": "display_data"
    },
    {
     "data": {
      "image/png": "[encoded data removed]",
      "text/plain": [
       "<Figure size 576x288 with 1 Axes>"
      ]
     },
     "metadata": {
      "needs_background": "light"
     },
     "output_type": "display_data"
    },
    {
     "data": {
      "text/plain": [
       "<Figure size 432x288 with 0 Axes>"
      ]
     },
     "metadata": {},
     "output_type": "display_data"
    },
    {
     "data": {
      "image/png": "[encoded data removed]",
      "text/plain": [
       "<Figure size 576x288 with 1 Axes>"
      ]
     },
     "metadata": {
      "needs_background": "light"
     },
     "output_type": "display_data"
    },
    {
     "data": {
      "text/plain": [
       "<Figure size 432x288 with 0 Axes>"
      ]
     },
     "metadata": {},
     "output_type": "display_data"
    },
    {
     "data": {
      "image/png": "[encoded data removed]",
      "text/plain": [
       "<Figure size 576x288 with 1 Axes>"
      ]
     },
     "metadata": {
      "needs_background": "light"
     },
     "output_type": "display_data"
    },
    {
     "data": {
      "text/plain": [
       "<Figure size 432x288 with 0 Axes>"
      ]
     },
     "metadata": {},
     "output_type": "display_data"
    },
    {
     "data": {
      "image/png": "[encoded data removed]",
      "text/plain": [
       "<Figure size 576x288 with 1 Axes>"
      ]
     },
     "metadata": {
      "needs_background": "light"
     },
     "output_type": "display_data"
    },
    {
     "data": {
      "text/plain": [
       "<Figure size 432x288 with 0 Axes>"
      ]
     },
     "metadata": {},
     "output_type": "display_data"
    },
    {
     "data": {
      "image/png": "[encoded data removed]",
      "text/plain": [
       "<Figure size 576x288 with 1 Axes>"
      ]
     },
     "metadata": {
      "needs_background": "light"
     },
     "output_type": "display_data"
    },
    {
     "data": {
      "text/plain": [
       "<Figure size 432x288 with 0 Axes>"
      ]
     },
     "metadata": {},
     "output_type": "display_data"
    },
    {
     "data": {
      "image/png": "[encoded data removed]",
      "text/plain": [
       "<Figure size 576x288 with 1 Axes>"
      ]
     },
     "metadata": {
      "needs_background": "light"
     },
     "output_type": "display_data"
    },
    {
     "data": {
      "text/plain": [
       "<Figure size 432x288 with 0 Axes>"
      ]
     },
     "metadata": {},
     "output_type": "display_data"
    },
    {
     "data": {
      "image/png": "[encoded data removed]",
      "text/plain": [
       "<Figure size 576x288 with 1 Axes>"
      ]
     },
     "metadata": {
      "needs_background": "light"
     },
     "output_type": "display_data"
    },
    {
     "data": {
      "text/plain": [
       "<Figure size 432x288 with 0 Axes>"
      ]
     },
     "metadata": {},
     "output_type": "display_data"
    },
    {
     "data": {
      "image/png": "[encoded data removed]",
      "text/plain": [
       "<Figure size 576x288 with 1 Axes>"
      ]
     },
     "metadata": {
      "needs_background": "light"
     },
     "output_type": "display_data"
    },
    {
     "data": {
      "text/plain": [
       "<Figure size 432x288 with 0 Axes>"
      ]
     },
     "metadata": {},
     "output_type": "display_data"
    },
    {
     "data": {
      "image/png": "[encoded data removed]",
      "text/plain": [
       "<Figure size 576x288 with 1 Axes>"
      ]
     },
     "metadata": {
      "needs_background": "light"
     },
     "output_type": "display_data"
    },
    {
     "data": {
      "text/plain": [
       "<Figure size 432x288 with 0 Axes>"
      ]
     },
     "metadata": {},
     "output_type": "display_data"
    },
    {
     "data": {
      "image/png": "[encoded data removed]",
      "text/plain": [
       "<Figure size 576x288 with 1 Axes>"
      ]
     },
     "metadata": {
      "needs_background": "light"
     },
     "output_type": "display_data"
    },
    {
     "data": {
      "text/plain": [
       "<Figure size 432x288 with 0 Axes>"
      ]
     },
     "metadata": {},
     "output_type": "display_data"
    },
    {
     "data": {
      "image/png": "[encoded data removed]",
      "text/plain": [
       "<Figure size 576x288 with 1 Axes>"
      ]
     },
     "metadata": {
      "needs_background": "light"
     },
     "output_type": "display_data"
    },
    {
     "data": {
      "text/plain": [
       "<Figure size 432x288 with 0 Axes>"
      ]
     },
     "metadata": {},
     "output_type": "display_data"
    },
    {
     "data": {
      "image/png": "[encoded data removed]",
      "text/plain": [
       "<Figure size 576x288 with 1 Axes>"
      ]
     },
     "metadata": {
      "needs_background": "light"
     },
     "output_type": "display_data"
    },
    {
     "data": {
      "text/plain": [
       "<Figure size 432x288 with 0 Axes>"
      ]
     },
     "metadata": {},
     "output_type": "display_data"
    }
   ],
   "source": [
    "#Task 1-(1):Visualize data using different visualizations to generate interesting insights\n",
    "#AND\n",
    "#Task 1-(4):Visualizing Total_booking Vs other features to generate insights\n",
    "\n",
    "#using scatter plot for plotting each feature with respect to target variable(Total_booking) for getting insights on dataset\n",
    "\n",
    "ar=['day','date','time','month','year','season','holiday','workingday','weather','temp','atemp','humidity','windspeed']\n",
    "for x in ar:\n",
    "    fig, ax = plt.subplots(figsize=(8,4))\n",
    "    ax.scatter(df_train[x], df_train['Total_booking'])\n",
    "    ax.set_xlabel(x)\n",
    "    ax.set_ylabel('Total Booking')\n",
    "    plt.figure()\n",
    "\n",
    "#plots are in order: [day','season','holiday','workingday','weather','temp','atemp','humidity','windspeed'] with Total_booking"
   ]
  },
  {
   "cell_type": "code",
   "execution_count": 8,
   "metadata": {},
   "outputs": [
    {
     "data": {
      "text/plain": [
       "'\\nSome insights from the data:\\n1) The number of bookings are relatively less on Sundays as compared to other days\\n2) The number of bookings are maximum in Summer season\\n3) The number of bookings are relatively less on holidays as compared to other days\\n4) The number of bookings are relatively less on non working days as compared to working days\\n5) The number of bookings are extrememly less and rare whenever the weather conditions have heavy rain and thunderstorm\\n6) The number of bookings are very less in extreme tempratures(too high or too low) and relatively high in moderate tempratures\\n7) The number of bookings are very less in extreme atemp(too high or too low) and relatively high in moderate atemp\\n8) The number of bookings are very less in zero or low humidity cliimate, relatively higher in high humidity climate and\\n   maximum in moderate humidity climate\\n9) The number of bookings are extrememly less and rare whenever the wind speed is too high\\n\\n'"
      ]
     },
     "execution_count": 8,
     "metadata": {},
     "output_type": "execute_result"
    }
   ],
   "source": [
    "#Task 1-(1):Visualize data using different visualizations to generate interesting insights\n",
    "#AND\n",
    "#Task 1-(4):Visualizing Total_booking Vs other features to generate insights\n",
    "\n",
    "'''\n",
    "Some insights from the data:\n",
    "1) The number of bookings are relatively less on Sundays as compared to other days\n",
    "2) The number of bookings are maximum in Summer season\n",
    "3) The number of bookings are relatively less on holidays as compared to other days\n",
    "4) The number of bookings are relatively less on non working days as compared to working days\n",
    "5) The number of bookings are extrememly less and rare whenever the weather conditions have heavy rain and thunderstorm\n",
    "6) The number of bookings are very less in extreme tempratures(too high or too low) and relatively high in moderate tempratures\n",
    "7) The number of bookings are very less in extreme atemp(too high or too low) and relatively high in moderate atemp\n",
    "8) The number of bookings are very less in zero or low humidity cliimate, relatively higher in high humidity climate and\n",
    "   maximum in moderate humidity climate\n",
    "9) The number of bookings are extrememly less and rare whenever the wind speed is too high\n",
    "\n",
    "'''"
   ]
  },
  {
   "cell_type": "code",
   "execution_count": 9,
   "metadata": {},
   "outputs": [
    {
     "name": "stdout",
     "output_type": "stream",
     "text": [
      "AxesSubplot(0.125,0.125;0.775x0.755)\n",
      "AxesSubplot(0.125,0.125;0.775x0.755)\n",
      "AxesSubplot(0.125,0.125;0.775x0.755)\n",
      "AxesSubplot(0.125,0.125;0.775x0.755)\n"
     ]
    },
    {
     "data": {
      "image/png": "[encoded data removed]",
      "text/plain": [
       "<Figure size 432x288 with 1 Axes>"
      ]
     },
     "metadata": {
      "needs_background": "light"
     },
     "output_type": "display_data"
    },
    {
     "data": {
      "image/png": "[encoded data removed]",
      "text/plain": [
       "<Figure size 432x288 with 1 Axes>"
      ]
     },
     "metadata": {
      "needs_background": "light"
     },
     "output_type": "display_data"
    },
    {
     "data": {
      "image/png": "[encoded data removed]",
      "text/plain": [
       "<Figure size 432x288 with 1 Axes>"
      ]
     },
     "metadata": {
      "needs_background": "light"
     },
     "output_type": "display_data"
    },
    {
     "data": {
      "image/png": "[encoded data removed]",
      "text/plain": [
       "<Figure size 432x288 with 1 Axes>"
      ]
     },
     "metadata": {
      "needs_background": "light"
     },
     "output_type": "display_data"
    },
    {
     "data": {
      "text/plain": [
       "<Figure size 432x288 with 0 Axes>"
      ]
     },
     "metadata": {},
     "output_type": "display_data"
    }
   ],
   "source": [
    "#Task 1-(2): Outlier Analysis\n",
    "\n",
    "#using box plot for outlier analysis on continuos feature variables 'temp','atemp','humidity','windspeed'\n",
    "\n",
    "temp=['temp','atemp','humidity','windspeed']\n",
    "for x in temp:\n",
    "    print(sns.boxplot(df_train[x]))\n",
    "    plt.figure()"
   ]
  },
  {
   "cell_type": "code",
   "execution_count": 10,
   "metadata": {},
   "outputs": [],
   "source": [
    "#Task 1-(2) : Outlier Analysis\n",
    "\n",
    "#there are a lot of outliers present in column windspeed"
   ]
  },
  {
   "cell_type": "code",
   "execution_count": 11,
   "metadata": {},
   "outputs": [
    {
     "name": "stdout",
     "output_type": "stream",
     "text": [
      "Missing values in date  is  0\n",
      "Missing values in day  is  0\n",
      "Missing values in month  is  0\n",
      "Missing values in year  is  0\n",
      "Missing values in time  is  0\n",
      "Missing values in season  is  0\n",
      "Missing values in holiday  is  0\n",
      "Missing values in workingday  is  0\n",
      "Missing values in weather  is  0\n",
      "Missing values in temp  is  0\n",
      "Missing values in atemp  is  0\n",
      "Missing values in humidity  is  0\n",
      "Missing values in windspeed  is  0\n",
      "Missing values in Total_booking  is  1\n"
     ]
    }
   ],
   "source": [
    "#Task 1-(3) : Missing value Analysis\n",
    "\n",
    "#missing values analysis for all the columns of dataset\n",
    "\n",
    "ar=['date','day','month','year','time','season','holiday','workingday','weather','temp','atemp','humidity','windspeed','Total_booking']\n",
    "for x in ar:\n",
    "    print(\"Missing values in\",x,\" is \",(8708-df_train[x].isna().value_counts()[0]))"
   ]
  },
  {
   "cell_type": "code",
   "execution_count": 12,
   "metadata": {},
   "outputs": [
    {
     "name": "stdout",
     "output_type": "stream",
     "text": [
      "(8708, 14)\n",
      "(8707, 14)\n"
     ]
    }
   ],
   "source": [
    "#Task 1-(3) : Missing value Analysis\n",
    "\n",
    "#as there is only 1 data point which has missing value for the target columnm it's safe to drop that data point\n",
    "\n",
    "print(df_train.shape)\n",
    "df_train=df_train.dropna()\n",
    "print(df_train.shape)"
   ]
  },
  {
   "cell_type": "code",
   "execution_count": 13,
   "metadata": {},
   "outputs": [
    {
     "name": "stdout",
     "output_type": "stream",
     "text": [
      "      day_Friday  day_Monday  day_Saturday  day_Sunday  day_Thursday  \\\n",
      "0              0           0             0           0             0   \n",
      "1              0           0             0           0             0   \n",
      "2              0           0             0           0             1   \n",
      "3              1           0             0           0             0   \n",
      "4              0           0             0           0             0   \n",
      "...          ...         ...           ...         ...           ...   \n",
      "8702           0           0             0           0             1   \n",
      "8703           0           1             0           0             0   \n",
      "8704           0           0             0           0             1   \n",
      "8705           0           0             0           0             0   \n",
      "8706           0           0             0           0             0   \n",
      "\n",
      "      day_Tuesday  day_Wednesday  season_Fall  season_Spring  season_Summer  \\\n",
      "0               0              1            0              0              1   \n",
      "1               0              1            1              0              0   \n",
      "2               0              0            0              1              0   \n",
      "3               0              0            0              0              0   \n",
      "4               1              0            1              0              0   \n",
      "...           ...            ...          ...            ...            ...   \n",
      "8702            0              0            0              1              0   \n",
      "8703            0              0            0              1              0   \n",
      "8704            0              0            0              0              0   \n",
      "8705            1              0            0              0              1   \n",
      "8706            0              1            0              0              0   \n",
      "\n",
      "      season_Winter  weather_ Clear + Few clouds  \\\n",
      "0                 0                            1   \n",
      "1                 0                            1   \n",
      "2                 0                            1   \n",
      "3                 1                            1   \n",
      "4                 0                            1   \n",
      "...             ...                          ...   \n",
      "8702              0                            1   \n",
      "8703              0                            1   \n",
      "8704              1                            0   \n",
      "8705              0                            0   \n",
      "8706              1                            0   \n",
      "\n",
      "      weather_ Heavy Rain + Thunderstorm   weather_ Light Snow, Light Rain  \\\n",
      "0                                       0                                0   \n",
      "1                                       0                                0   \n",
      "2                                       0                                0   \n",
      "3                                       0                                0   \n",
      "4                                       0                                0   \n",
      "...                                   ...                              ...   \n",
      "8702                                    0                                0   \n",
      "8703                                    0                                0   \n",
      "8704                                    0                                0   \n",
      "8705                                    0                                0   \n",
      "8706                                    0                                0   \n",
      "\n",
      "      weather_ Mist + Cloudy   \n",
      "0                           0  \n",
      "1                           0  \n",
      "2                           0  \n",
      "3                           0  \n",
      "4                           0  \n",
      "...                       ...  \n",
      "8702                        0  \n",
      "8703                        0  \n",
      "8704                        1  \n",
      "8705                        1  \n",
      "8706                        1  \n",
      "\n",
      "[8707 rows x 15 columns]\n"
     ]
    }
   ],
   "source": [
    "#preparing dataframe with one hot encoding of categorical features\n",
    "\n",
    "df=df_train[['day','season','weather']]\n",
    "#le = OneHotEncoder()\n",
    "df = pd.get_dummies(df)\n",
    "print(df)\n",
    "df_train=df_train[['date','month','year','time','holiday','workingday','temp','atemp','humidity','windspeed','Total_booking']]\n",
    "df_train= pd.concat([df_train,df],axis=1)"
   ]
  },
  {
   "cell_type": "code",
   "execution_count": 14,
   "metadata": {},
   "outputs": [
    {
     "data": {
      "text/html": [
       "<div>\n",
       "<style scoped>\n",
       "    .dataframe tbody tr th:only-of-type {\n",
       "        vertical-align: middle;\n",
       "    }\n",
       "\n",
       "    .dataframe tbody tr th {\n",
       "        vertical-align: top;\n",
       "    }\n",
       "\n",
       "    .dataframe thead th {\n",
       "        text-align: right;\n",
       "    }\n",
       "</style>\n",
       "<table border=\"1\" class=\"dataframe\">\n",
       "  <thead>\n",
       "    <tr style=\"text-align: right;\">\n",
       "      <th></th>\n",
       "      <th>date</th>\n",
       "      <th>month</th>\n",
       "      <th>year</th>\n",
       "      <th>time</th>\n",
       "      <th>holiday</th>\n",
       "      <th>workingday</th>\n",
       "      <th>temp</th>\n",
       "      <th>atemp</th>\n",
       "      <th>humidity</th>\n",
       "      <th>windspeed</th>\n",
       "      <th>...</th>\n",
       "      <th>day_Tuesday</th>\n",
       "      <th>day_Wednesday</th>\n",
       "      <th>season_Fall</th>\n",
       "      <th>season_Spring</th>\n",
       "      <th>season_Summer</th>\n",
       "      <th>season_Winter</th>\n",
       "      <th>weather_ Clear + Few clouds</th>\n",
       "      <th>weather_ Heavy Rain + Thunderstorm</th>\n",
       "      <th>weather_ Light Snow, Light Rain</th>\n",
       "      <th>weather_ Mist + Cloudy</th>\n",
       "    </tr>\n",
       "  </thead>\n",
       "  <tbody>\n",
       "    <tr>\n",
       "      <td>0</td>\n",
       "      <td>2</td>\n",
       "      <td>5</td>\n",
       "      <td>2012</td>\n",
       "      <td>19</td>\n",
       "      <td>0</td>\n",
       "      <td>1</td>\n",
       "      <td>22.14</td>\n",
       "      <td>25.760</td>\n",
       "      <td>77</td>\n",
       "      <td>16.9979</td>\n",
       "      <td>...</td>\n",
       "      <td>0</td>\n",
       "      <td>1</td>\n",
       "      <td>0</td>\n",
       "      <td>0</td>\n",
       "      <td>1</td>\n",
       "      <td>0</td>\n",
       "      <td>1</td>\n",
       "      <td>0</td>\n",
       "      <td>0</td>\n",
       "      <td>0</td>\n",
       "    </tr>\n",
       "    <tr>\n",
       "      <td>1</td>\n",
       "      <td>5</td>\n",
       "      <td>9</td>\n",
       "      <td>2012</td>\n",
       "      <td>4</td>\n",
       "      <td>0</td>\n",
       "      <td>1</td>\n",
       "      <td>28.70</td>\n",
       "      <td>33.335</td>\n",
       "      <td>79</td>\n",
       "      <td>19.0012</td>\n",
       "      <td>...</td>\n",
       "      <td>0</td>\n",
       "      <td>1</td>\n",
       "      <td>1</td>\n",
       "      <td>0</td>\n",
       "      <td>0</td>\n",
       "      <td>0</td>\n",
       "      <td>1</td>\n",
       "      <td>0</td>\n",
       "      <td>0</td>\n",
       "      <td>0</td>\n",
       "    </tr>\n",
       "    <tr>\n",
       "      <td>2</td>\n",
       "      <td>13</td>\n",
       "      <td>1</td>\n",
       "      <td>2011</td>\n",
       "      <td>9</td>\n",
       "      <td>0</td>\n",
       "      <td>1</td>\n",
       "      <td>5.74</td>\n",
       "      <td>6.060</td>\n",
       "      <td>50</td>\n",
       "      <td>22.0028</td>\n",
       "      <td>...</td>\n",
       "      <td>0</td>\n",
       "      <td>0</td>\n",
       "      <td>0</td>\n",
       "      <td>1</td>\n",
       "      <td>0</td>\n",
       "      <td>0</td>\n",
       "      <td>1</td>\n",
       "      <td>0</td>\n",
       "      <td>0</td>\n",
       "      <td>0</td>\n",
       "    </tr>\n",
       "    <tr>\n",
       "      <td>3</td>\n",
       "      <td>18</td>\n",
       "      <td>11</td>\n",
       "      <td>2011</td>\n",
       "      <td>16</td>\n",
       "      <td>0</td>\n",
       "      <td>1</td>\n",
       "      <td>13.94</td>\n",
       "      <td>16.665</td>\n",
       "      <td>29</td>\n",
       "      <td>8.9981</td>\n",
       "      <td>...</td>\n",
       "      <td>0</td>\n",
       "      <td>0</td>\n",
       "      <td>0</td>\n",
       "      <td>0</td>\n",
       "      <td>0</td>\n",
       "      <td>1</td>\n",
       "      <td>1</td>\n",
       "      <td>0</td>\n",
       "      <td>0</td>\n",
       "      <td>0</td>\n",
       "    </tr>\n",
       "    <tr>\n",
       "      <td>4</td>\n",
       "      <td>13</td>\n",
       "      <td>9</td>\n",
       "      <td>2011</td>\n",
       "      <td>13</td>\n",
       "      <td>0</td>\n",
       "      <td>1</td>\n",
       "      <td>30.34</td>\n",
       "      <td>33.335</td>\n",
       "      <td>51</td>\n",
       "      <td>19.0012</td>\n",
       "      <td>...</td>\n",
       "      <td>1</td>\n",
       "      <td>0</td>\n",
       "      <td>1</td>\n",
       "      <td>0</td>\n",
       "      <td>0</td>\n",
       "      <td>0</td>\n",
       "      <td>1</td>\n",
       "      <td>0</td>\n",
       "      <td>0</td>\n",
       "      <td>0</td>\n",
       "    </tr>\n",
       "    <tr>\n",
       "      <td>...</td>\n",
       "      <td>...</td>\n",
       "      <td>...</td>\n",
       "      <td>...</td>\n",
       "      <td>...</td>\n",
       "      <td>...</td>\n",
       "      <td>...</td>\n",
       "      <td>...</td>\n",
       "      <td>...</td>\n",
       "      <td>...</td>\n",
       "      <td>...</td>\n",
       "      <td>...</td>\n",
       "      <td>...</td>\n",
       "      <td>...</td>\n",
       "      <td>...</td>\n",
       "      <td>...</td>\n",
       "      <td>...</td>\n",
       "      <td>...</td>\n",
       "      <td>...</td>\n",
       "      <td>...</td>\n",
       "      <td>...</td>\n",
       "      <td>...</td>\n",
       "    </tr>\n",
       "    <tr>\n",
       "      <td>8702</td>\n",
       "      <td>6</td>\n",
       "      <td>1</td>\n",
       "      <td>2011</td>\n",
       "      <td>13</td>\n",
       "      <td>0</td>\n",
       "      <td>1</td>\n",
       "      <td>10.66</td>\n",
       "      <td>13.635</td>\n",
       "      <td>35</td>\n",
       "      <td>7.0015</td>\n",
       "      <td>...</td>\n",
       "      <td>0</td>\n",
       "      <td>0</td>\n",
       "      <td>0</td>\n",
       "      <td>1</td>\n",
       "      <td>0</td>\n",
       "      <td>0</td>\n",
       "      <td>1</td>\n",
       "      <td>0</td>\n",
       "      <td>0</td>\n",
       "      <td>0</td>\n",
       "    </tr>\n",
       "    <tr>\n",
       "      <td>8703</td>\n",
       "      <td>16</td>\n",
       "      <td>1</td>\n",
       "      <td>2012</td>\n",
       "      <td>6</td>\n",
       "      <td>1</td>\n",
       "      <td>0</td>\n",
       "      <td>4.10</td>\n",
       "      <td>6.820</td>\n",
       "      <td>54</td>\n",
       "      <td>6.0032</td>\n",
       "      <td>...</td>\n",
       "      <td>0</td>\n",
       "      <td>0</td>\n",
       "      <td>0</td>\n",
       "      <td>1</td>\n",
       "      <td>0</td>\n",
       "      <td>0</td>\n",
       "      <td>1</td>\n",
       "      <td>0</td>\n",
       "      <td>0</td>\n",
       "      <td>0</td>\n",
       "    </tr>\n",
       "    <tr>\n",
       "      <td>8704</td>\n",
       "      <td>10</td>\n",
       "      <td>11</td>\n",
       "      <td>2011</td>\n",
       "      <td>1</td>\n",
       "      <td>0</td>\n",
       "      <td>1</td>\n",
       "      <td>16.40</td>\n",
       "      <td>20.455</td>\n",
       "      <td>87</td>\n",
       "      <td>0.0000</td>\n",
       "      <td>...</td>\n",
       "      <td>0</td>\n",
       "      <td>0</td>\n",
       "      <td>0</td>\n",
       "      <td>0</td>\n",
       "      <td>0</td>\n",
       "      <td>1</td>\n",
       "      <td>0</td>\n",
       "      <td>0</td>\n",
       "      <td>0</td>\n",
       "      <td>1</td>\n",
       "    </tr>\n",
       "    <tr>\n",
       "      <td>8705</td>\n",
       "      <td>12</td>\n",
       "      <td>4</td>\n",
       "      <td>2011</td>\n",
       "      <td>3</td>\n",
       "      <td>0</td>\n",
       "      <td>1</td>\n",
       "      <td>23.78</td>\n",
       "      <td>27.275</td>\n",
       "      <td>56</td>\n",
       "      <td>8.9981</td>\n",
       "      <td>...</td>\n",
       "      <td>1</td>\n",
       "      <td>0</td>\n",
       "      <td>0</td>\n",
       "      <td>0</td>\n",
       "      <td>1</td>\n",
       "      <td>0</td>\n",
       "      <td>0</td>\n",
       "      <td>0</td>\n",
       "      <td>0</td>\n",
       "      <td>1</td>\n",
       "    </tr>\n",
       "    <tr>\n",
       "      <td>8706</td>\n",
       "      <td>7</td>\n",
       "      <td>11</td>\n",
       "      <td>2012</td>\n",
       "      <td>1</td>\n",
       "      <td>0</td>\n",
       "      <td>1</td>\n",
       "      <td>11.48</td>\n",
       "      <td>13.635</td>\n",
       "      <td>61</td>\n",
       "      <td>16.9979</td>\n",
       "      <td>...</td>\n",
       "      <td>0</td>\n",
       "      <td>1</td>\n",
       "      <td>0</td>\n",
       "      <td>0</td>\n",
       "      <td>0</td>\n",
       "      <td>1</td>\n",
       "      <td>0</td>\n",
       "      <td>0</td>\n",
       "      <td>0</td>\n",
       "      <td>1</td>\n",
       "    </tr>\n",
       "  </tbody>\n",
       "</table>\n",
       "<p>8707 rows × 26 columns</p>\n",
       "</div>"
      ],
      "text/plain": [
       "      date  month  year  time  holiday  workingday   temp   atemp  humidity  \\\n",
       "0        2      5  2012    19        0           1  22.14  25.760        77   \n",
       "1        5      9  2012     4        0           1  28.70  33.335        79   \n",
       "2       13      1  2011     9        0           1   5.74   6.060        50   \n",
       "3       18     11  2011    16        0           1  13.94  16.665        29   \n",
       "4       13      9  2011    13        0           1  30.34  33.335        51   \n",
       "...    ...    ...   ...   ...      ...         ...    ...     ...       ...   \n",
       "8702     6      1  2011    13        0           1  10.66  13.635        35   \n",
       "8703    16      1  2012     6        1           0   4.10   6.820        54   \n",
       "8704    10     11  2011     1        0           1  16.40  20.455        87   \n",
       "8705    12      4  2011     3        0           1  23.78  27.275        56   \n",
       "8706     7     11  2012     1        0           1  11.48  13.635        61   \n",
       "\n",
       "      windspeed  ...  day_Tuesday  day_Wednesday  season_Fall  season_Spring  \\\n",
       "0       16.9979  ...            0              1            0              0   \n",
       "1       19.0012  ...            0              1            1              0   \n",
       "2       22.0028  ...            0              0            0              1   \n",
       "3        8.9981  ...            0              0            0              0   \n",
       "4       19.0012  ...            1              0            1              0   \n",
       "...         ...  ...          ...            ...          ...            ...   \n",
       "8702     7.0015  ...            0              0            0              1   \n",
       "8703     6.0032  ...            0              0            0              1   \n",
       "8704     0.0000  ...            0              0            0              0   \n",
       "8705     8.9981  ...            1              0            0              0   \n",
       "8706    16.9979  ...            0              1            0              0   \n",
       "\n",
       "      season_Summer  season_Winter  weather_ Clear + Few clouds  \\\n",
       "0                 1              0                            1   \n",
       "1                 0              0                            1   \n",
       "2                 0              0                            1   \n",
       "3                 0              1                            1   \n",
       "4                 0              0                            1   \n",
       "...             ...            ...                          ...   \n",
       "8702              0              0                            1   \n",
       "8703              0              0                            1   \n",
       "8704              0              1                            0   \n",
       "8705              1              0                            0   \n",
       "8706              0              1                            0   \n",
       "\n",
       "      weather_ Heavy Rain + Thunderstorm   weather_ Light Snow, Light Rain  \\\n",
       "0                                       0                                0   \n",
       "1                                       0                                0   \n",
       "2                                       0                                0   \n",
       "3                                       0                                0   \n",
       "4                                       0                                0   \n",
       "...                                   ...                              ...   \n",
       "8702                                    0                                0   \n",
       "8703                                    0                                0   \n",
       "8704                                    0                                0   \n",
       "8705                                    0                                0   \n",
       "8706                                    0                                0   \n",
       "\n",
       "      weather_ Mist + Cloudy   \n",
       "0                           0  \n",
       "1                           0  \n",
       "2                           0  \n",
       "3                           0  \n",
       "4                           0  \n",
       "...                       ...  \n",
       "8702                        0  \n",
       "8703                        0  \n",
       "8704                        1  \n",
       "8705                        1  \n",
       "8706                        1  \n",
       "\n",
       "[8707 rows x 26 columns]"
      ]
     },
     "execution_count": 14,
     "metadata": {},
     "output_type": "execute_result"
    }
   ],
   "source": [
    "df_train"
   ]
  },
  {
   "cell_type": "code",
   "execution_count": 15,
   "metadata": {},
   "outputs": [
    {
     "data": {
      "text/plain": [
       "<matplotlib.axes._subplots.AxesSubplot at 0x1f8ff169188>"
      ]
     },
     "execution_count": 15,
     "metadata": {},
     "output_type": "execute_result"
    },
    {
     "data": {
      "image/png": "[encoded data removed]",
      "text/plain": [
       "<Figure size 432x288 with 2 Axes>"
      ]
     },
     "metadata": {
      "needs_background": "light"
     },
     "output_type": "display_data"
    }
   ],
   "source": [
    "#Task 1-(5) : Correlation Analysis\n",
    "\n",
    "#correlation analysis of dataset (after labelencoding of categorical features)\n",
    "\n",
    "sns.heatmap(df_train.corr())"
   ]
  },
  {
   "cell_type": "code",
   "execution_count": 16,
   "metadata": {},
   "outputs": [],
   "source": [
    "#Task 1-(2) : Outlier Analysis\n",
    "\n",
    "#removing outliers present in windspeed column\n",
    "\n",
    "z = np.abs(stats.zscore(df_train[['windspeed']]))\n",
    "df_train = df_train[(z < 3).all(axis=1)]\n",
    "\n"
   ]
  },
  {
   "cell_type": "code",
   "execution_count": 17,
   "metadata": {},
   "outputs": [
    {
     "name": "stdout",
     "output_type": "stream",
     "text": [
      "AxesSubplot(0.125,0.125;0.775x0.755)\n"
     ]
    },
    {
     "data": {
      "text/plain": [
       "<Figure size 432x288 with 0 Axes>"
      ]
     },
     "execution_count": 17,
     "metadata": {},
     "output_type": "execute_result"
    },
    {
     "data": {
      "image/png": "[encoded data removed]",
      "text/plain": [
       "<Figure size 432x288 with 1 Axes>"
      ]
     },
     "metadata": {
      "needs_background": "light"
     },
     "output_type": "display_data"
    },
    {
     "data": {
      "text/plain": [
       "<Figure size 432x288 with 0 Axes>"
      ]
     },
     "metadata": {},
     "output_type": "display_data"
    }
   ],
   "source": [
    "#Task 1-(2) : Outlier Analysis\n",
    "\n",
    "#using box plot for verifying that outliers are reduced in windspeed column\n",
    "\n",
    "print(sns.boxplot(x=df_train['windspeed']))\n",
    "plt.figure()\n"
   ]
  },
  {
   "cell_type": "code",
   "execution_count": 18,
   "metadata": {},
   "outputs": [
    {
     "data": {
      "text/html": [
       "<div>\n",
       "<style scoped>\n",
       "    .dataframe tbody tr th:only-of-type {\n",
       "        vertical-align: middle;\n",
       "    }\n",
       "\n",
       "    .dataframe tbody tr th {\n",
       "        vertical-align: top;\n",
       "    }\n",
       "\n",
       "    .dataframe thead th {\n",
       "        text-align: right;\n",
       "    }\n",
       "</style>\n",
       "<table border=\"1\" class=\"dataframe\">\n",
       "  <thead>\n",
       "    <tr style=\"text-align: right;\">\n",
       "      <th></th>\n",
       "      <th>date</th>\n",
       "      <th>month</th>\n",
       "      <th>year</th>\n",
       "      <th>time</th>\n",
       "      <th>holiday</th>\n",
       "      <th>workingday</th>\n",
       "      <th>temp</th>\n",
       "      <th>atemp</th>\n",
       "      <th>humidity</th>\n",
       "      <th>windspeed</th>\n",
       "      <th>...</th>\n",
       "      <th>day_Tuesday</th>\n",
       "      <th>day_Wednesday</th>\n",
       "      <th>season_Fall</th>\n",
       "      <th>season_Spring</th>\n",
       "      <th>season_Summer</th>\n",
       "      <th>season_Winter</th>\n",
       "      <th>weather_ Clear + Few clouds</th>\n",
       "      <th>weather_ Heavy Rain + Thunderstorm</th>\n",
       "      <th>weather_ Light Snow, Light Rain</th>\n",
       "      <th>weather_ Mist + Cloudy</th>\n",
       "    </tr>\n",
       "  </thead>\n",
       "  <tbody>\n",
       "    <tr>\n",
       "      <td>0</td>\n",
       "      <td>2</td>\n",
       "      <td>5</td>\n",
       "      <td>2012</td>\n",
       "      <td>19</td>\n",
       "      <td>0</td>\n",
       "      <td>1</td>\n",
       "      <td>22.14</td>\n",
       "      <td>25.760</td>\n",
       "      <td>77</td>\n",
       "      <td>16.9979</td>\n",
       "      <td>...</td>\n",
       "      <td>0</td>\n",
       "      <td>1</td>\n",
       "      <td>0</td>\n",
       "      <td>0</td>\n",
       "      <td>1</td>\n",
       "      <td>0</td>\n",
       "      <td>1</td>\n",
       "      <td>0</td>\n",
       "      <td>0</td>\n",
       "      <td>0</td>\n",
       "    </tr>\n",
       "    <tr>\n",
       "      <td>1</td>\n",
       "      <td>5</td>\n",
       "      <td>9</td>\n",
       "      <td>2012</td>\n",
       "      <td>4</td>\n",
       "      <td>0</td>\n",
       "      <td>1</td>\n",
       "      <td>28.70</td>\n",
       "      <td>33.335</td>\n",
       "      <td>79</td>\n",
       "      <td>19.0012</td>\n",
       "      <td>...</td>\n",
       "      <td>0</td>\n",
       "      <td>1</td>\n",
       "      <td>1</td>\n",
       "      <td>0</td>\n",
       "      <td>0</td>\n",
       "      <td>0</td>\n",
       "      <td>1</td>\n",
       "      <td>0</td>\n",
       "      <td>0</td>\n",
       "      <td>0</td>\n",
       "    </tr>\n",
       "    <tr>\n",
       "      <td>2</td>\n",
       "      <td>13</td>\n",
       "      <td>1</td>\n",
       "      <td>2011</td>\n",
       "      <td>9</td>\n",
       "      <td>0</td>\n",
       "      <td>1</td>\n",
       "      <td>5.74</td>\n",
       "      <td>6.060</td>\n",
       "      <td>50</td>\n",
       "      <td>22.0028</td>\n",
       "      <td>...</td>\n",
       "      <td>0</td>\n",
       "      <td>0</td>\n",
       "      <td>0</td>\n",
       "      <td>1</td>\n",
       "      <td>0</td>\n",
       "      <td>0</td>\n",
       "      <td>1</td>\n",
       "      <td>0</td>\n",
       "      <td>0</td>\n",
       "      <td>0</td>\n",
       "    </tr>\n",
       "    <tr>\n",
       "      <td>3</td>\n",
       "      <td>18</td>\n",
       "      <td>11</td>\n",
       "      <td>2011</td>\n",
       "      <td>16</td>\n",
       "      <td>0</td>\n",
       "      <td>1</td>\n",
       "      <td>13.94</td>\n",
       "      <td>16.665</td>\n",
       "      <td>29</td>\n",
       "      <td>8.9981</td>\n",
       "      <td>...</td>\n",
       "      <td>0</td>\n",
       "      <td>0</td>\n",
       "      <td>0</td>\n",
       "      <td>0</td>\n",
       "      <td>0</td>\n",
       "      <td>1</td>\n",
       "      <td>1</td>\n",
       "      <td>0</td>\n",
       "      <td>0</td>\n",
       "      <td>0</td>\n",
       "    </tr>\n",
       "    <tr>\n",
       "      <td>4</td>\n",
       "      <td>13</td>\n",
       "      <td>9</td>\n",
       "      <td>2011</td>\n",
       "      <td>13</td>\n",
       "      <td>0</td>\n",
       "      <td>1</td>\n",
       "      <td>30.34</td>\n",
       "      <td>33.335</td>\n",
       "      <td>51</td>\n",
       "      <td>19.0012</td>\n",
       "      <td>...</td>\n",
       "      <td>1</td>\n",
       "      <td>0</td>\n",
       "      <td>1</td>\n",
       "      <td>0</td>\n",
       "      <td>0</td>\n",
       "      <td>0</td>\n",
       "      <td>1</td>\n",
       "      <td>0</td>\n",
       "      <td>0</td>\n",
       "      <td>0</td>\n",
       "    </tr>\n",
       "    <tr>\n",
       "      <td>...</td>\n",
       "      <td>...</td>\n",
       "      <td>...</td>\n",
       "      <td>...</td>\n",
       "      <td>...</td>\n",
       "      <td>...</td>\n",
       "      <td>...</td>\n",
       "      <td>...</td>\n",
       "      <td>...</td>\n",
       "      <td>...</td>\n",
       "      <td>...</td>\n",
       "      <td>...</td>\n",
       "      <td>...</td>\n",
       "      <td>...</td>\n",
       "      <td>...</td>\n",
       "      <td>...</td>\n",
       "      <td>...</td>\n",
       "      <td>...</td>\n",
       "      <td>...</td>\n",
       "      <td>...</td>\n",
       "      <td>...</td>\n",
       "      <td>...</td>\n",
       "    </tr>\n",
       "    <tr>\n",
       "      <td>8702</td>\n",
       "      <td>6</td>\n",
       "      <td>1</td>\n",
       "      <td>2011</td>\n",
       "      <td>13</td>\n",
       "      <td>0</td>\n",
       "      <td>1</td>\n",
       "      <td>10.66</td>\n",
       "      <td>13.635</td>\n",
       "      <td>35</td>\n",
       "      <td>7.0015</td>\n",
       "      <td>...</td>\n",
       "      <td>0</td>\n",
       "      <td>0</td>\n",
       "      <td>0</td>\n",
       "      <td>1</td>\n",
       "      <td>0</td>\n",
       "      <td>0</td>\n",
       "      <td>1</td>\n",
       "      <td>0</td>\n",
       "      <td>0</td>\n",
       "      <td>0</td>\n",
       "    </tr>\n",
       "    <tr>\n",
       "      <td>8703</td>\n",
       "      <td>16</td>\n",
       "      <td>1</td>\n",
       "      <td>2012</td>\n",
       "      <td>6</td>\n",
       "      <td>1</td>\n",
       "      <td>0</td>\n",
       "      <td>4.10</td>\n",
       "      <td>6.820</td>\n",
       "      <td>54</td>\n",
       "      <td>6.0032</td>\n",
       "      <td>...</td>\n",
       "      <td>0</td>\n",
       "      <td>0</td>\n",
       "      <td>0</td>\n",
       "      <td>1</td>\n",
       "      <td>0</td>\n",
       "      <td>0</td>\n",
       "      <td>1</td>\n",
       "      <td>0</td>\n",
       "      <td>0</td>\n",
       "      <td>0</td>\n",
       "    </tr>\n",
       "    <tr>\n",
       "      <td>8704</td>\n",
       "      <td>10</td>\n",
       "      <td>11</td>\n",
       "      <td>2011</td>\n",
       "      <td>1</td>\n",
       "      <td>0</td>\n",
       "      <td>1</td>\n",
       "      <td>16.40</td>\n",
       "      <td>20.455</td>\n",
       "      <td>87</td>\n",
       "      <td>0.0000</td>\n",
       "      <td>...</td>\n",
       "      <td>0</td>\n",
       "      <td>0</td>\n",
       "      <td>0</td>\n",
       "      <td>0</td>\n",
       "      <td>0</td>\n",
       "      <td>1</td>\n",
       "      <td>0</td>\n",
       "      <td>0</td>\n",
       "      <td>0</td>\n",
       "      <td>1</td>\n",
       "    </tr>\n",
       "    <tr>\n",
       "      <td>8705</td>\n",
       "      <td>12</td>\n",
       "      <td>4</td>\n",
       "      <td>2011</td>\n",
       "      <td>3</td>\n",
       "      <td>0</td>\n",
       "      <td>1</td>\n",
       "      <td>23.78</td>\n",
       "      <td>27.275</td>\n",
       "      <td>56</td>\n",
       "      <td>8.9981</td>\n",
       "      <td>...</td>\n",
       "      <td>1</td>\n",
       "      <td>0</td>\n",
       "      <td>0</td>\n",
       "      <td>0</td>\n",
       "      <td>1</td>\n",
       "      <td>0</td>\n",
       "      <td>0</td>\n",
       "      <td>0</td>\n",
       "      <td>0</td>\n",
       "      <td>1</td>\n",
       "    </tr>\n",
       "    <tr>\n",
       "      <td>8706</td>\n",
       "      <td>7</td>\n",
       "      <td>11</td>\n",
       "      <td>2012</td>\n",
       "      <td>1</td>\n",
       "      <td>0</td>\n",
       "      <td>1</td>\n",
       "      <td>11.48</td>\n",
       "      <td>13.635</td>\n",
       "      <td>61</td>\n",
       "      <td>16.9979</td>\n",
       "      <td>...</td>\n",
       "      <td>0</td>\n",
       "      <td>1</td>\n",
       "      <td>0</td>\n",
       "      <td>0</td>\n",
       "      <td>0</td>\n",
       "      <td>1</td>\n",
       "      <td>0</td>\n",
       "      <td>0</td>\n",
       "      <td>0</td>\n",
       "      <td>1</td>\n",
       "    </tr>\n",
       "  </tbody>\n",
       "</table>\n",
       "<p>8659 rows × 26 columns</p>\n",
       "</div>"
      ],
      "text/plain": [
       "      date  month  year  time  holiday  workingday   temp   atemp  humidity  \\\n",
       "0        2      5  2012    19        0           1  22.14  25.760        77   \n",
       "1        5      9  2012     4        0           1  28.70  33.335        79   \n",
       "2       13      1  2011     9        0           1   5.74   6.060        50   \n",
       "3       18     11  2011    16        0           1  13.94  16.665        29   \n",
       "4       13      9  2011    13        0           1  30.34  33.335        51   \n",
       "...    ...    ...   ...   ...      ...         ...    ...     ...       ...   \n",
       "8702     6      1  2011    13        0           1  10.66  13.635        35   \n",
       "8703    16      1  2012     6        1           0   4.10   6.820        54   \n",
       "8704    10     11  2011     1        0           1  16.40  20.455        87   \n",
       "8705    12      4  2011     3        0           1  23.78  27.275        56   \n",
       "8706     7     11  2012     1        0           1  11.48  13.635        61   \n",
       "\n",
       "      windspeed  ...  day_Tuesday  day_Wednesday  season_Fall  season_Spring  \\\n",
       "0       16.9979  ...            0              1            0              0   \n",
       "1       19.0012  ...            0              1            1              0   \n",
       "2       22.0028  ...            0              0            0              1   \n",
       "3        8.9981  ...            0              0            0              0   \n",
       "4       19.0012  ...            1              0            1              0   \n",
       "...         ...  ...          ...            ...          ...            ...   \n",
       "8702     7.0015  ...            0              0            0              1   \n",
       "8703     6.0032  ...            0              0            0              1   \n",
       "8704     0.0000  ...            0              0            0              0   \n",
       "8705     8.9981  ...            1              0            0              0   \n",
       "8706    16.9979  ...            0              1            0              0   \n",
       "\n",
       "      season_Summer  season_Winter  weather_ Clear + Few clouds  \\\n",
       "0                 1              0                            1   \n",
       "1                 0              0                            1   \n",
       "2                 0              0                            1   \n",
       "3                 0              1                            1   \n",
       "4                 0              0                            1   \n",
       "...             ...            ...                          ...   \n",
       "8702              0              0                            1   \n",
       "8703              0              0                            1   \n",
       "8704              0              1                            0   \n",
       "8705              1              0                            0   \n",
       "8706              0              1                            0   \n",
       "\n",
       "      weather_ Heavy Rain + Thunderstorm   weather_ Light Snow, Light Rain  \\\n",
       "0                                       0                                0   \n",
       "1                                       0                                0   \n",
       "2                                       0                                0   \n",
       "3                                       0                                0   \n",
       "4                                       0                                0   \n",
       "...                                   ...                              ...   \n",
       "8702                                    0                                0   \n",
       "8703                                    0                                0   \n",
       "8704                                    0                                0   \n",
       "8705                                    0                                0   \n",
       "8706                                    0                                0   \n",
       "\n",
       "      weather_ Mist + Cloudy   \n",
       "0                           0  \n",
       "1                           0  \n",
       "2                           0  \n",
       "3                           0  \n",
       "4                           0  \n",
       "...                       ...  \n",
       "8702                        0  \n",
       "8703                        0  \n",
       "8704                        1  \n",
       "8705                        1  \n",
       "8706                        1  \n",
       "\n",
       "[8659 rows x 26 columns]"
      ]
     },
     "execution_count": 18,
     "metadata": {},
     "output_type": "execute_result"
    }
   ],
   "source": [
    "df_train\n",
    "#finally a dataset which we can use to build our models with 8659 rows"
   ]
  },
  {
   "cell_type": "code",
   "execution_count": 19,
   "metadata": {},
   "outputs": [
    {
     "data": {
      "text/plain": [
       "'\\nTask 2 section: \\n1.)feature engineering,\\n2.)grid search, \\n3.)regression analysis, \\n4.)ensemble models\\n'"
      ]
     },
     "execution_count": 19,
     "metadata": {},
     "output_type": "execute_result"
    }
   ],
   "source": [
    "'''\n",
    "Task 2 section: \n",
    "1.)feature engineering,\n",
    "2.)grid search, \n",
    "3.)regression analysis, \n",
    "4.)ensemble models\n",
    "'''"
   ]
  },
  {
   "cell_type": "code",
   "execution_count": 20,
   "metadata": {},
   "outputs": [],
   "source": [
    "#Task 2-(1) : Feature engineering\n",
    "\n",
    "#using all features for calculating feature importances\n",
    "features=df_train\n",
    "features=features.drop(['Total_booking'], axis=1)\n",
    "features=features.drop(['atemp'], axis=1)\n",
    "#atemp and temp are highly correlated so we'll remove one of them for better regression model\n",
    "target=df_train['Total_booking']"
   ]
  },
  {
   "cell_type": "code",
   "execution_count": 21,
   "metadata": {},
   "outputs": [
    {
     "data": {
      "text/html": [
       "<div>\n",
       "<style scoped>\n",
       "    .dataframe tbody tr th:only-of-type {\n",
       "        vertical-align: middle;\n",
       "    }\n",
       "\n",
       "    .dataframe tbody tr th {\n",
       "        vertical-align: top;\n",
       "    }\n",
       "\n",
       "    .dataframe thead th {\n",
       "        text-align: right;\n",
       "    }\n",
       "</style>\n",
       "<table border=\"1\" class=\"dataframe\">\n",
       "  <thead>\n",
       "    <tr style=\"text-align: right;\">\n",
       "      <th></th>\n",
       "      <th>importance</th>\n",
       "    </tr>\n",
       "  </thead>\n",
       "  <tbody>\n",
       "    <tr>\n",
       "      <td>date</td>\n",
       "      <td>0.100</td>\n",
       "    </tr>\n",
       "    <tr>\n",
       "      <td>month</td>\n",
       "      <td>0.051</td>\n",
       "    </tr>\n",
       "    <tr>\n",
       "      <td>year</td>\n",
       "      <td>0.023</td>\n",
       "    </tr>\n",
       "    <tr>\n",
       "      <td>time</td>\n",
       "      <td>0.198</td>\n",
       "    </tr>\n",
       "    <tr>\n",
       "      <td>holiday</td>\n",
       "      <td>0.004</td>\n",
       "    </tr>\n",
       "    <tr>\n",
       "      <td>workingday</td>\n",
       "      <td>0.012</td>\n",
       "    </tr>\n",
       "    <tr>\n",
       "      <td>temp</td>\n",
       "      <td>0.144</td>\n",
       "    </tr>\n",
       "    <tr>\n",
       "      <td>humidity</td>\n",
       "      <td>0.163</td>\n",
       "    </tr>\n",
       "    <tr>\n",
       "      <td>windspeed</td>\n",
       "      <td>0.145</td>\n",
       "    </tr>\n",
       "    <tr>\n",
       "      <td>day_Friday</td>\n",
       "      <td>0.014</td>\n",
       "    </tr>\n",
       "    <tr>\n",
       "      <td>day_Monday</td>\n",
       "      <td>0.014</td>\n",
       "    </tr>\n",
       "    <tr>\n",
       "      <td>day_Saturday</td>\n",
       "      <td>0.010</td>\n",
       "    </tr>\n",
       "    <tr>\n",
       "      <td>day_Sunday</td>\n",
       "      <td>0.014</td>\n",
       "    </tr>\n",
       "    <tr>\n",
       "      <td>day_Thursday</td>\n",
       "      <td>0.014</td>\n",
       "    </tr>\n",
       "    <tr>\n",
       "      <td>day_Tuesday</td>\n",
       "      <td>0.014</td>\n",
       "    </tr>\n",
       "    <tr>\n",
       "      <td>day_Wednesday</td>\n",
       "      <td>0.014</td>\n",
       "    </tr>\n",
       "    <tr>\n",
       "      <td>season_Fall</td>\n",
       "      <td>0.007</td>\n",
       "    </tr>\n",
       "    <tr>\n",
       "      <td>season_Spring</td>\n",
       "      <td>0.006</td>\n",
       "    </tr>\n",
       "    <tr>\n",
       "      <td>season_Summer</td>\n",
       "      <td>0.009</td>\n",
       "    </tr>\n",
       "    <tr>\n",
       "      <td>season_Winter</td>\n",
       "      <td>0.006</td>\n",
       "    </tr>\n",
       "    <tr>\n",
       "      <td>weather_ Clear + Few clouds</td>\n",
       "      <td>0.015</td>\n",
       "    </tr>\n",
       "    <tr>\n",
       "      <td>weather_ Heavy Rain + Thunderstorm</td>\n",
       "      <td>0.000</td>\n",
       "    </tr>\n",
       "    <tr>\n",
       "      <td>weather_ Light Snow, Light Rain</td>\n",
       "      <td>0.007</td>\n",
       "    </tr>\n",
       "    <tr>\n",
       "      <td>weather_ Mist + Cloudy</td>\n",
       "      <td>0.015</td>\n",
       "    </tr>\n",
       "  </tbody>\n",
       "</table>\n",
       "</div>"
      ],
      "text/plain": [
       "                                     importance\n",
       "date                                      0.100\n",
       "month                                     0.051\n",
       "year                                      0.023\n",
       "time                                      0.198\n",
       "holiday                                   0.004\n",
       "workingday                                0.012\n",
       "temp                                      0.144\n",
       "humidity                                  0.163\n",
       "windspeed                                 0.145\n",
       "day_Friday                                0.014\n",
       "day_Monday                                0.014\n",
       "day_Saturday                              0.010\n",
       "day_Sunday                                0.014\n",
       "day_Thursday                              0.014\n",
       "day_Tuesday                               0.014\n",
       "day_Wednesday                             0.014\n",
       "season_Fall                               0.007\n",
       "season_Spring                             0.006\n",
       "season_Summer                             0.009\n",
       "season_Winter                             0.006\n",
       "weather_ Clear + Few clouds               0.015\n",
       "weather_ Heavy Rain + Thunderstorm        0.000\n",
       "weather_ Light Snow, Light Rain           0.007\n",
       "weather_ Mist + Cloudy                    0.015"
      ]
     },
     "execution_count": 21,
     "metadata": {},
     "output_type": "execute_result"
    }
   ],
   "source": [
    "#Task 2-(1) : Feature engineering\n",
    "\n",
    "#calculating feature importances\n",
    "rf=RandomForestRegressor()\n",
    "rf.fit(features,target)\n",
    "rf.feature_importances_\n",
    "\n",
    "feature_importances = pd.DataFrame(rf.feature_importances_,\n",
    "         index = features.columns,\n",
    "                                   columns=['importance'])\n",
    "np.round(feature_importances,3)\n",
    "\n"
   ]
  },
  {
   "cell_type": "code",
   "execution_count": 22,
   "metadata": {},
   "outputs": [],
   "source": [
    "#Task 2-(1) : Feature engineering\n",
    "\n",
    "#keeping the features with feature importances>0.05\n",
    "\n",
    "feat=(feature_importances[feature_importances>0.05])\n",
    "feat=feat.dropna()\n",
    "features=df_train[feat.index]\n",
    "target=df_train['Total_booking']"
   ]
  },
  {
   "cell_type": "code",
   "execution_count": 23,
   "metadata": {},
   "outputs": [
    {
     "name": "stdout",
     "output_type": "stream",
     "text": [
      "0.0008357054708550971\n",
      "0.0008356381613948693\n",
      "0.0008357054708550971\n"
     ]
    }
   ],
   "source": [
    "#Task 2-(3) : Regression Analysis\n",
    "\n",
    "#comparison of regression models based on their r2-scores\n",
    "\n",
    "linreg=LinearRegression()\n",
    "lasso=Lasso(alpha=0.1)\n",
    "ridge=Ridge(alpha=0.1)\n",
    "linreg.fit(features,target)\n",
    "lasso.fit(features,target)\n",
    "ridge.fit(features,target)\n",
    "\n",
    "ypred=linreg.predict(features)\n",
    "print(r2_score(target,ypred))\n",
    "\n",
    "ypred=lasso.predict(features)\n",
    "print(r2_score(target,ypred))\n",
    "\n",
    "ypred=ridge.predict(features)\n",
    "print(r2_score(target,ypred))\n",
    "\n",
    "#it turns out linear models are performing very poor on training data itself so tweaks in hyperparameters also won't be much effective\n",
    "#tree based ensemble models might perform better on this problem, let's try tree based algorithms as well\n",
    "#the goal is to filter out bad performing algorithms and the ones which will perform considerably good will move on to hyperparameter tuning"
   ]
  },
  {
   "cell_type": "code",
   "execution_count": 24,
   "metadata": {},
   "outputs": [
    {
     "name": "stdout",
     "output_type": "stream",
     "text": [
      "[01:43:11] WARNING: C:/Jenkins/workspace/xgboost-win64_release_0.90/src/objective/regression_obj.cu:152: reg:linear is now deprecated in favor of reg:squarederror.\n",
      "RandomForestRegressor:\n",
      "0.7805579118320237\n",
      "AdaBoostRegressor:\n",
      "0.8419272399505999\n",
      "GradientBoostingRegressor:\n",
      "0.9627518320575327\n",
      "XGBRegressor:\n",
      "0.9002147989513649\n"
     ]
    }
   ],
   "source": [
    "#Task 2-(4) : Ensemble Models\n",
    "\n",
    "#comparison of ensemble models on their r2-score\n",
    "rf=RandomForestRegressor()\n",
    "ad=AdaBoostRegressor(base_estimator=RandomForestRegressor(),loss='square')\n",
    "gb=GradientBoostingRegressor(max_depth=12)\n",
    "xb=XGBRegressor(max_depth=12)\n",
    "\n",
    "rf.fit(features,target)\n",
    "ad.fit(features,target)\n",
    "gb.fit(features,target)\n",
    "xb.fit(features,target)\n",
    "\n",
    "ypred=rf.predict(features)\n",
    "print(\"RandomForestRegressor:\")\n",
    "print(r2_score(target,ypred))\n",
    "\n",
    "ypred=ad.predict(features)\n",
    "print(\"AdaBoostRegressor:\")\n",
    "print(r2_score(target,ypred))\n",
    "\n",
    "ypred=gb.predict(features)\n",
    "print(\"GradientBoostingRegressor:\")\n",
    "print(r2_score(target,ypred))\n",
    "\n",
    "ypred=xb.predict(features)\n",
    "print(\"XGBRegressor:\")\n",
    "print(r2_score(target,ypred))\n",
    "\n",
    "#as these scores are on training dataset only, we'll tune hyperparameters to make this perform good on test dataset as well"
   ]
  },
  {
   "cell_type": "code",
   "execution_count": 25,
   "metadata": {},
   "outputs": [],
   "source": [
    "#So finally we have reached a conclusion that ensemble models will perform better than linear models on this regresison problem\n",
    "#So we will now tune hyperparameters for all ensemble models and check the scores then"
   ]
  },
  {
   "cell_type": "code",
   "execution_count": null,
   "metadata": {},
   "outputs": [],
   "source": []
  },
  {
   "cell_type": "code",
   "execution_count": 26,
   "metadata": {},
   "outputs": [
    {
     "name": "stdout",
     "output_type": "stream",
     "text": [
      "best scores:  -0.04274902744304438\n",
      "best estimator : GradientBoostingRegressor(alpha=0.9, criterion='friedman_mse', init=None,\n",
      "                          learning_rate=0.01, loss='ls', max_depth=10,\n",
      "                          max_features=None, max_leaf_nodes=None,\n",
      "                          min_impurity_decrease=0.0, min_impurity_split=None,\n",
      "                          min_samples_leaf=1, min_samples_split=2,\n",
      "                          min_weight_fraction_leaf=0.0, n_estimators=100,\n",
      "                          n_iter_no_change=None, presort='auto',\n",
      "                          random_state=None, subsample=1.0, tol=0.0001,\n",
      "                          validation_fraction=0.1, verbose=0, warm_start=False)\n"
     ]
    }
   ],
   "source": [
    "#Task 2-(2) : GridSearch\n",
    "\n",
    "\n",
    "param={'learning_rate':[0.1,0.01], 'n_estimators':[100, 150], 'max_depth':[10,15] }\n",
    "\n",
    "gb=GridSearchCV(GradientBoostingRegressor(),param_grid=param)\n",
    "gb.fit(features,target)\n",
    "\n",
    "#Hyperparameter tuning for GradientBoostingRegressor\n",
    "\n",
    "print(\"best scores: \", gb.best_score_)\n",
    "print(\"best estimator :\", gb.best_estimator_)\n",
    "\n"
   ]
  },
  {
   "cell_type": "code",
   "execution_count": 27,
   "metadata": {},
   "outputs": [
    {
     "name": "stdout",
     "output_type": "stream",
     "text": [
      "[01:45:20] WARNING: C:/Jenkins/workspace/xgboost-win64_release_0.90/src/objective/regression_obj.cu:152: reg:linear is now deprecated in favor of reg:squarederror.\n",
      "[01:45:20] WARNING: C:/Jenkins/workspace/xgboost-win64_release_0.90/src/objective/regression_obj.cu:152: reg:linear is now deprecated in favor of reg:squarederror.\n",
      "[01:45:20] WARNING: C:/Jenkins/workspace/xgboost-win64_release_0.90/src/objective/regression_obj.cu:152: reg:linear is now deprecated in favor of reg:squarederror.\n",
      "[01:45:21] WARNING: C:/Jenkins/workspace/xgboost-win64_release_0.90/src/objective/regression_obj.cu:152: reg:linear is now deprecated in favor of reg:squarederror.\n",
      "[01:45:21] WARNING: C:/Jenkins/workspace/xgboost-win64_release_0.90/src/objective/regression_obj.cu:152: reg:linear is now deprecated in favor of reg:squarederror.\n",
      "[01:45:21] WARNING: C:/Jenkins/workspace/xgboost-win64_release_0.90/src/objective/regression_obj.cu:152: reg:linear is now deprecated in favor of reg:squarederror.\n",
      "[01:45:21] WARNING: C:/Jenkins/workspace/xgboost-win64_release_0.90/src/objective/regression_obj.cu:152: reg:linear is now deprecated in favor of reg:squarederror.\n",
      "[01:45:22] WARNING: C:/Jenkins/workspace/xgboost-win64_release_0.90/src/objective/regression_obj.cu:152: reg:linear is now deprecated in favor of reg:squarederror.\n",
      "[01:45:22] WARNING: C:/Jenkins/workspace/xgboost-win64_release_0.90/src/objective/regression_obj.cu:152: reg:linear is now deprecated in favor of reg:squarederror.\n",
      "[01:45:22] WARNING: C:/Jenkins/workspace/xgboost-win64_release_0.90/src/objective/regression_obj.cu:152: reg:linear is now deprecated in favor of reg:squarederror.\n",
      "[01:45:22] WARNING: C:/Jenkins/workspace/xgboost-win64_release_0.90/src/objective/regression_obj.cu:152: reg:linear is now deprecated in favor of reg:squarederror.\n",
      "[01:45:23] WARNING: C:/Jenkins/workspace/xgboost-win64_release_0.90/src/objective/regression_obj.cu:152: reg:linear is now deprecated in favor of reg:squarederror.\n",
      "[01:45:23] WARNING: C:/Jenkins/workspace/xgboost-win64_release_0.90/src/objective/regression_obj.cu:152: reg:linear is now deprecated in favor of reg:squarederror.\n",
      "best scores:  -0.008640914139161808\n",
      "best estimator : XGBRegressor(base_score=0.5, booster='gbtree', colsample_bylevel=1,\n",
      "             colsample_bynode=1, colsample_bytree=1, gamma=0,\n",
      "             importance_type='gain', learning_rate=0.1, max_delta_step=0,\n",
      "             max_depth=3, min_child_weight=1, missing=None, n_estimators=50,\n",
      "             n_jobs=1, nthread=None, objective='reg:linear', random_state=0,\n",
      "             reg_alpha=0, reg_lambda=1, scale_pos_weight=1, seed=None,\n",
      "             silent=None, subsample=1, verbosity=1)\n"
     ]
    }
   ],
   "source": [
    "#Task 2-(2) : GridSearch\n",
    "\n",
    "param = {\n",
    " 'n_estimators': [50, 100],\n",
    " 'learning_rate' : [0.01,0.1]}\n",
    "\n",
    "xb=GridSearchCV(XGBRegressor(), param_grid=param)\n",
    "xb.fit(features,target)\n",
    "xb.best_score_\n",
    "\n",
    "#Hyperparameter tuning for XGBRegressor\n",
    "\n",
    "print(\"best scores: \", xb.best_score_)\n",
    "print(\"best estimator :\", xb.best_estimator_)\n",
    "\n"
   ]
  },
  {
   "cell_type": "code",
   "execution_count": 28,
   "metadata": {},
   "outputs": [
    {
     "name": "stdout",
     "output_type": "stream",
     "text": [
      "best scores:  -0.003950874703989453\n",
      "best estimator : AdaBoostRegressor(base_estimator=None, learning_rate=0.01, loss='linear',\n",
      "                  n_estimators=50, random_state=None)\n"
     ]
    }
   ],
   "source": [
    "#Task 2-(2) : GridSearch\n",
    "\n",
    "\n",
    "param = {\n",
    " 'n_estimators': [50, 100],\n",
    " 'learning_rate' : [0.01,0.1, 1],\n",
    " 'loss' : ['linear', 'square']\n",
    " }\n",
    "\n",
    "ab=GridSearchCV(AdaBoostRegressor(), param_grid=param)\n",
    "ab.fit(features,target)\n",
    "ab.best_score_\n",
    "\n",
    "#Hyperparameter tuning for AdaBoostRegressor\n",
    "\n",
    "print(\"best scores: \", ab.best_score_)\n",
    "print(\"best estimator :\", ab.best_estimator_)\n"
   ]
  },
  {
   "cell_type": "code",
   "execution_count": 29,
   "metadata": {},
   "outputs": [
    {
     "name": "stdout",
     "output_type": "stream",
     "text": [
      "best scores:  -0.03780400745973079\n",
      "best estimator : RandomForestRegressor(bootstrap=True, criterion='mse', max_depth=12,\n",
      "                      max_features='auto', max_leaf_nodes=None,\n",
      "                      min_impurity_decrease=0.0, min_impurity_split=None,\n",
      "                      min_samples_leaf=1, min_samples_split=10,\n",
      "                      min_weight_fraction_leaf=0.0, n_estimators=200,\n",
      "                      n_jobs=None, oob_score=False, random_state=None,\n",
      "                      verbose=0, warm_start=False)\n"
     ]
    }
   ],
   "source": [
    "#Task 2-(2) : GridSearch\n",
    "\n",
    "param = {\n",
    "    'bootstrap': [True],\n",
    "    'max_depth': [12],\n",
    "    'min_samples_split': [8, 10],\n",
    "    'n_estimators': [100, 200]\n",
    "}\n",
    "\n",
    "\n",
    "\n",
    "rf=GridSearchCV(RandomForestRegressor(), param_grid=param)\n",
    "rf.fit(features,target)\n",
    "rf.best_estimator_\n",
    "rf.best_score_\n",
    "\n",
    "#Hyperparameter tuning for RandomForestRegressor\n",
    "print(\"best scores: \", rf.best_score_)\n",
    "print(\"best estimator :\", rf.best_estimator_)\n"
   ]
  },
  {
   "cell_type": "code",
   "execution_count": 30,
   "metadata": {},
   "outputs": [],
   "source": [
    "\n",
    "#So both set of Tasks 1 and 2 are done and the conclusion is that RandomForestRegressor is performing best\n",
    "#So we will build the same model using these hyperparameters and then we'll calculate r2 score for test dataset\n"
   ]
  },
  {
   "cell_type": "code",
   "execution_count": 31,
   "metadata": {},
   "outputs": [
    {
     "data": {
      "text/plain": [
       "'\\nConclusion: RandomForestRegressor is performing the best out of all models\\n'"
      ]
     },
     "execution_count": 31,
     "metadata": {},
     "output_type": "execute_result"
    }
   ],
   "source": [
    "'''\n",
    "Conclusion: RandomForestRegressor is performing the best out of all models\n",
    "'''"
   ]
  },
  {
   "cell_type": "code",
   "execution_count": 32,
   "metadata": {},
   "outputs": [
    {
     "data": {
      "text/plain": [
       "RandomForestRegressor(bootstrap=True, criterion='mse', max_depth=None,\n",
       "                      max_features='auto', max_leaf_nodes=None,\n",
       "                      min_impurity_decrease=0.0, min_impurity_split=None,\n",
       "                      min_samples_leaf=1, min_samples_split=2,\n",
       "                      min_weight_fraction_leaf=0.0, n_estimators=10,\n",
       "                      n_jobs=None, oob_score=False, random_state=None,\n",
       "                      verbose=0, warm_start=False)"
      ]
     },
     "execution_count": 32,
     "metadata": {},
     "output_type": "execute_result"
    }
   ],
   "source": [
    "rf=RandomForestRegressor()\n",
    "rf.fit(features,target)"
   ]
  },
  {
   "cell_type": "code",
   "execution_count": 33,
   "metadata": {},
   "outputs": [],
   "source": [
    "#preparing dataframe for test dataset\n",
    "#note that this will overwrite the variables defined, So it'd be good to not run cells randomly and make sure they follow sequence\n",
    "\n",
    "df_feat_train=pd.read_csv('test.csv')\n",
    "df_target_train=pd.read_csv('test_label.csv')\n",
    "df_feat_train['datetime'] = pd.to_datetime(df_feat_train['datetime'])\n",
    "df_feat_train['date'] = df_feat_train['datetime'].dt.date #getting time from datetime column and adding a seperate column for it\n",
    "df_feat_train['time'] = df_feat_train['datetime'].dt.time #getting date from datetime column and adding a seperate column for it\n",
    "df_feat_train['daynum'] = [i.day for i in df_feat_train['datetime'].dt.date] #getting date from datetime column and adding a seperate column for it\n",
    "df_feat_train['month'] = [i.month for i in df_feat_train['datetime'].dt.date] #getting date from datetime column and adding a seperate column for it\n",
    "df_feat_train['year'] = [i.year for i in df_feat_train['datetime'].dt.date] #getting date from datetime column and adding a seperate column for it\n",
    "df_feat_train['t']= [ (int(str(i)[0:2])) for i in df_feat_train['time'] ]\n",
    "\n",
    "temp=[]\n",
    "for i in df_feat_train['datetime']:\n",
    "    temp.append((i.strftime(\"%A\"))) #getting day name from datetime column\n",
    "df_feat_train['day'] = temp\n",
    "temp=df_target_train.iloc[:]\n",
    "df_feat_train['Total_booking']=temp #adding day name column to the dateframe"
   ]
  },
  {
   "cell_type": "code",
   "execution_count": 34,
   "metadata": {},
   "outputs": [
    {
     "name": "stdout",
     "output_type": "stream",
     "text": [
      "      day_Friday  day_Monday  day_Saturday  day_Sunday  day_Thursday  \\\n",
      "0              0           0             0           0             1   \n",
      "1              0           0             1           0             0   \n",
      "2              0           0             0           1             0   \n",
      "3              0           0             0           0             1   \n",
      "4              0           0             1           0             0   \n",
      "...          ...         ...           ...         ...           ...   \n",
      "2173           0           0             0           0             1   \n",
      "2174           0           0             0           0             1   \n",
      "2175           0           0             0           0             0   \n",
      "2176           0           0             0           0             1   \n",
      "2177           0           0             0           0             0   \n",
      "\n",
      "      day_Tuesday  day_Wednesday  season_Fall  season_Spring  season_Summer  \\\n",
      "0               0              0            0              0              1   \n",
      "1               0              0            0              0              1   \n",
      "2               0              0            0              1              0   \n",
      "3               0              0            0              0              0   \n",
      "4               0              0            0              0              1   \n",
      "...           ...            ...          ...            ...            ...   \n",
      "2173            0              0            0              1              0   \n",
      "2174            0              0            0              1              0   \n",
      "2175            0              1            0              1              0   \n",
      "2176            0              0            0              0              1   \n",
      "2177            0              1            1              0              0   \n",
      "\n",
      "      season_Winter  weather_ Clear + Few clouds  \\\n",
      "0                 0                            1   \n",
      "1                 0                            1   \n",
      "2                 0                            0   \n",
      "3                 1                            0   \n",
      "4                 0                            1   \n",
      "...             ...                          ...   \n",
      "2173              0                            1   \n",
      "2174              0                            0   \n",
      "2175              0                            1   \n",
      "2176              0                            1   \n",
      "2177              0                            1   \n",
      "\n",
      "      weather_ Light Snow, Light Rain  weather_ Mist + Cloudy   \n",
      "0                                   0                        0  \n",
      "1                                   0                        0  \n",
      "2                                   1                        0  \n",
      "3                                   0                        1  \n",
      "4                                   0                        0  \n",
      "...                               ...                      ...  \n",
      "2173                                0                        0  \n",
      "2174                                0                        1  \n",
      "2175                                0                        0  \n",
      "2176                                0                        0  \n",
      "2177                                0                        0  \n",
      "\n",
      "[2178 rows x 14 columns]\n"
     ]
    }
   ],
   "source": [
    "#re-arranging the features and adding the target column to a fresh dataframe\n",
    "\n",
    "df_train=df_feat_train[['daynum','day','month','year','t','season','holiday','workingday','weather','temp','atemp','humidity','windspeed','Total_booking']]\n",
    "df_train.columns=['date','day','month','year','time','season','holiday','workingday','weather','temp','atemp','humidity','windspeed','Total_booking']\n",
    "\n",
    "#preparing dataframe with one hot encoding of categorical features\n",
    "\n",
    "df=df_train[['day','season','weather']]\n",
    "#le = OneHotEncoder()\n",
    "df = pd.get_dummies(df)\n",
    "print(df)\n",
    "df_train=df_train[['date','month','year','time','holiday','workingday','temp','atemp','humidity','windspeed','Total_booking']]\n",
    "df_train= pd.concat([df_train,df],axis=1)"
   ]
  },
  {
   "cell_type": "code",
   "execution_count": 35,
   "metadata": {},
   "outputs": [
    {
     "name": "stdout",
     "output_type": "stream",
     "text": [
      "\n",
      "R2 Score for Test Dataset :  0.20927791252187622\n"
     ]
    }
   ],
   "source": [
    "df_train=df_train.dropna()\n",
    "features=df_train[feat.index]\n",
    "target=df_train['Total_booking']\n",
    "ypred=rf.predict(features)\n",
    "print(\"\\nR2 Score for Test Dataset : \", np.abs(r2_score(target,ypred)))\n",
    "\n",
    "#R2 Score on Test dataset\n",
    "#Note that this dataset is a dummy dataset so the scores can not necessarily be good enough "
   ]
  },
  {
   "cell_type": "code",
   "execution_count": 36,
   "metadata": {},
   "outputs": [
    {
     "data": {
      "text/plain": [
       "'\\nConclusion: RandomForestRegressor is performing the best out of all models and above is the R2 Score for the same\\n'"
      ]
     },
     "execution_count": 36,
     "metadata": {},
     "output_type": "execute_result"
    }
   ],
   "source": [
    "'''\n",
    "Conclusion: RandomForestRegressor is performing the best out of all models and above is the R2 Score for the same\n",
    "'''"
   ]
  }
 ],
 "metadata": {
  "kernelspec": {
   "display_name": "Python 3",
   "language": "python",
   "name": "python3"
  },
  "language_info": {
   "codemirror_mode": {
    "name": "ipython",
    "version": 3
   },
   "file_extension": ".py",
   "mimetype": "text/x-python",
   "name": "python",
   "nbconvert_exporter": "python",
   "pygments_lexer": "ipython3",
   "version": "3.7.4"
  }
 },
 "nbformat": 4,
 "nbformat_minor": 2
}
